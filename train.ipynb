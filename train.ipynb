{
 "cells": [
  {
   "attachments": {},
   "cell_type": "markdown",
   "metadata": {},
   "source": [
    "### CNN in HAWQ Training "
   ]
  },
  {
   "cell_type": "code",
   "execution_count": 1,
   "metadata": {},
   "outputs": [],
   "source": [
    "import torch\n",
    "import torchvision\n",
    "import torchvision.transforms as transforms\n",
    "import torchvision.datasets as dset\n",
    "import torch.nn as nn\n",
    "import torch.nn.functional as F\n",
    "import torch.optim as optim\n",
    "import os\n",
    "from torchinfo import summary\n",
    "import tqdm.notebook as tqdm\n",
    "import numpy as np\n",
    "import matplotlib.pyplot as plt\n",
    "import seaborn as sn\n",
    "import pandas as pd\n",
    "from sklearn.metrics import confusion_matrix"
   ]
  },
  {
   "cell_type": "code",
   "execution_count": 31,
   "metadata": {},
   "outputs": [],
   "source": [
    "from hawq.utils.quantization_utils.quant_modules import QuantConv2d, QuantLinear, QuantAct"
   ]
  },
  {
   "cell_type": "code",
   "execution_count": 2,
   "metadata": {},
   "outputs": [
    {
     "data": {
      "text/plain": [
       "device(type='cpu')"
      ]
     },
     "execution_count": 2,
     "metadata": {},
     "output_type": "execute_result"
    }
   ],
   "source": [
    "device = torch.device('cuda' if torch.cuda.is_available() else 'cpu')\n",
    "device"
   ]
  },
  {
   "attachments": {},
   "cell_type": "markdown",
   "metadata": {},
   "source": [
    "#### 1. Define Model in PyTorch "
   ]
  },
  {
   "cell_type": "code",
   "execution_count": 51,
   "metadata": {},
   "outputs": [],
   "source": [
    "class CNN(nn.Module):\n",
    "    def __init__(self):\n",
    "        super(CNN, self).__init__()\n",
    "        self.conv1 = nn.Conv2d(\n",
    "            in_channels=1,              \n",
    "            out_channels=16,            \n",
    "            kernel_size=5,              \n",
    "            stride=1,                   \n",
    "            padding=2,\n",
    "        )\n",
    "        self.conv2 = nn.Conv2d(\n",
    "            in_channels=16, \n",
    "            out_channels=32, \n",
    "            kernel_size=5, \n",
    "            stride=1, \n",
    "            padding=2\n",
    "        )\n",
    "        \n",
    "        self.relu = nn.ReLU()\n",
    "        self.max_pool = nn.MaxPool2d(kernel_size=2)\n",
    "        self.flatten = nn.Flatten(1,3)\n",
    "        \n",
    "        # fully connected layer, output 10 classes\n",
    "        self.out = nn.Linear(32 * 7 * 7, 10)\n",
    "\n",
    "    def forward(self, x):\n",
    "        x = self.conv1(x)\n",
    "        x = self.relu(x)\n",
    "        x = self.max_pool(x)\n",
    "\n",
    "        x = self.conv2(x)\n",
    "        x = self.relu(x)\n",
    "        x = self.max_pool(x)\n",
    "\n",
    "        # flatten the output of conv2 to (batch_size, 32 * 7 * 7)\n",
    "        x = self.flatten(x)\n",
    "        output = self.out(x)\n",
    "        return output  # return x for visualization"
   ]
  },
  {
   "cell_type": "code",
   "execution_count": 64,
   "metadata": {},
   "outputs": [
    {
     "data": {
      "text/plain": [
       "==========================================================================================\n",
       "Layer (type:depth-idx)                   Output Shape              Param #\n",
       "==========================================================================================\n",
       "CNN                                      [1, 10]                   --\n",
       "├─Conv2d: 1-1                            [1, 16, 28, 28]           416\n",
       "├─ReLU: 1-2                              [1, 16, 28, 28]           --\n",
       "├─MaxPool2d: 1-3                         [1, 16, 14, 14]           --\n",
       "├─Conv2d: 1-4                            [1, 32, 14, 14]           12,832\n",
       "├─ReLU: 1-5                              [1, 32, 14, 14]           --\n",
       "├─MaxPool2d: 1-6                         [1, 32, 7, 7]             --\n",
       "├─Flatten: 1-7                           [1, 1568]                 --\n",
       "├─Linear: 1-8                            [1, 10]                   15,690\n",
       "==========================================================================================\n",
       "Total params: 28,938\n",
       "Trainable params: 28,938\n",
       "Non-trainable params: 0\n",
       "Total mult-adds (M): 2.86\n",
       "==========================================================================================\n",
       "Input size (MB): 0.00\n",
       "Forward/backward pass size (MB): 0.15\n",
       "Params size (MB): 0.12\n",
       "Estimated Total Size (MB): 0.27\n",
       "=========================================================================================="
      ]
     },
     "execution_count": 64,
     "metadata": {},
     "output_type": "execute_result"
    }
   ],
   "source": [
    "model = CNN()\n",
    "model.to(device)\n",
    "summary(model, input_size=(1,1,28,28))"
   ]
  },
  {
   "attachments": {},
   "cell_type": "markdown",
   "metadata": {},
   "source": [
    "#### 1.2 Define Model in HAWQ"
   ]
  },
  {
   "cell_type": "code",
   "execution_count": 65,
   "metadata": {},
   "outputs": [],
   "source": [
    "class Q_CNN(nn.Module):\n",
    "    def __init__(self, model):\n",
    "        super(Q_CNN, self).__init__()\n",
    "        \n",
    "        self.quant_input = QuantAct(activation_bit=12) \n",
    "        self.q_relu_1 = QuantAct(activation_bit=8) \n",
    "        self.q_relu_2 = QuantAct(activation_bit=8) \n",
    "        \n",
    "        # create quantize Conv2d based on the original layer \n",
    "        conv1 = getattr(model, \"conv1\")\n",
    "        q_conv1 = QuantConv2d(weight_bit=4, bias_bit=16) \n",
    "        q_conv1.set_param(conv1)\n",
    "        setattr(self, \"conv1\", q_conv1)\n",
    "\n",
    "        # create quantize Conv2d based on the original layer \n",
    "        conv2 = getattr(model, \"conv2\")\n",
    "        q_conv2 = QuantConv2d(weight_bit=4, bias_bit=16) \n",
    "        q_conv2.set_param(conv2)\n",
    "        setattr(self, \"conv2\", q_conv2)\n",
    "        \n",
    "        self.relu = nn.ReLU()\n",
    "        self.max_pool = nn.MaxPool2d(kernel_size=2)\n",
    "        self.flatten = nn.Flatten(1,3)\n",
    "        \n",
    "        # fully connected layer, output 10 classes\n",
    "        out = getattr(model, \"out\")\n",
    "        q_out = QuantLinear(weight_bit=4, bias_bit=4)\n",
    "        q_out.set_param(out)\n",
    "        setattr(self, \"out\", q_out)\n",
    "\n",
    "    def forward(self, x):\n",
    "\n",
    "        x, p_sf = self.quant_input(x)\n",
    "\n",
    "        x, w_sf = self.conv1(x, p_sf)\n",
    "        x = self.relu(x)\n",
    "        x, p_sf = self.q_relu_1(x, p_sf, w_sf)\n",
    "        x = self.max_pool(x)\n",
    "\n",
    "        x, w_sf = self.conv2(x, p_sf)\n",
    "        x = self.relu(x)\n",
    "        x, p_sf = self.q_relu_2(x, p_sf, w_sf)\n",
    "        x = self.max_pool(x)\n",
    "\n",
    "        # flatten the output of conv2 to (batch_size, 32 * 7 * 7)\n",
    "        x = self.flatten(x)\n",
    "        output = self.out(x, p_sf)\n",
    "        return output  # return x for visualization"
   ]
  },
  {
   "cell_type": "code",
   "execution_count": 66,
   "metadata": {},
   "outputs": [
    {
     "data": {
      "text/plain": [
       "Q_CNN(\n",
       "  (quant_input): QuantAct(activation_bit=12, full_precision_flag=False, quant_mode=symmetric, Act_min: 0.00, Act_max: 0.00)\n",
       "  (q_relu_1): QuantAct(activation_bit=8, full_precision_flag=False, quant_mode=symmetric, Act_min: 0.00, Act_max: 0.00)\n",
       "  (q_relu_2): QuantAct(activation_bit=8, full_precision_flag=False, quant_mode=symmetric, Act_min: 0.00, Act_max: 0.00)\n",
       "  (conv1): (QuantConv2d(\n",
       "    (conv): Conv2d(1, 16, kernel_size=(5, 5), stride=(1, 1), padding=(2, 2))\n",
       "  ) weight_bit=4, full_precision_flag=False, quant_mode=symmetric)\n",
       "  (conv2): (QuantConv2d(\n",
       "    (conv): Conv2d(16, 32, kernel_size=(5, 5), stride=(1, 1), padding=(2, 2))\n",
       "  ) weight_bit=4, full_precision_flag=False, quant_mode=symmetric)\n",
       "  (relu): ReLU()\n",
       "  (max_pool): MaxPool2d(kernel_size=2, stride=2, padding=0, dilation=1, ceil_mode=False)\n",
       "  (flatten): Flatten(start_dim=1, end_dim=3)\n",
       "  (out): (QuantLinear() weight_bit=4, full_precision_flag=False, quantize_fn=symmetric)\n",
       ")"
      ]
     },
     "execution_count": 66,
     "metadata": {},
     "output_type": "execute_result"
    }
   ],
   "source": [
    "model = Q_CNN(model)\n",
    "model.to(device)\n",
    "# summary(model, input_size=(1,1,28,28))"
   ]
  },
  {
   "attachments": {},
   "cell_type": "markdown",
   "metadata": {},
   "source": [
    "#### 2. Setup loss and optimizer"
   ]
  },
  {
   "cell_type": "code",
   "execution_count": 67,
   "metadata": {},
   "outputs": [],
   "source": [
    "criterion = nn.CrossEntropyLoss()\n",
    "optimizer = optim.SGD(model.parameters(), lr=0.001, momentum=0.9) "
   ]
  },
  {
   "attachments": {},
   "cell_type": "markdown",
   "metadata": {},
   "source": [
    "#### Setup data loaders "
   ]
  },
  {
   "cell_type": "code",
   "execution_count": 68,
   "metadata": {},
   "outputs": [],
   "source": [
    "root = '../datasets/mnist'\n",
    "if not os.path.exists(root):\n",
    "    os.mkdir(root)\n",
    "\n",
    "trans = transforms.Compose([transforms.ToTensor(), transforms.Normalize((0.5,), (1.0,))])\n",
    "train_set = dset.MNIST(root=root, train=True, transform=trans, download=False)\n",
    "test_set = dset.MNIST(root=root, train=False, transform=trans, download=False)\n",
    "\n",
    "train_batch_size = 100\n",
    "test_batch_size = 1\n",
    "\n",
    "train_loader = torch.utils.data.DataLoader(\n",
    "    dataset=train_set,\n",
    "    batch_size=train_batch_size,\n",
    "    shuffle=True\n",
    ")\n",
    "test_loader = torch.utils.data.DataLoader(\n",
    "    dataset=test_set,\n",
    "    batch_size=test_batch_size,\n",
    "    shuffle=False\n",
    ")"
   ]
  },
  {
   "attachments": {},
   "cell_type": "markdown",
   "metadata": {},
   "source": [
    "#### Train CNN"
   ]
  },
  {
   "cell_type": "code",
   "execution_count": 69,
   "metadata": {},
   "outputs": [
    {
     "data": {
      "application/vnd.jupyter.widget-view+json": {
       "model_id": "46a0613d464744bc8fba8268f01fbfec",
       "version_major": 2,
       "version_minor": 0
      },
      "text/plain": [
       "  0%|          | 0/600 [00:00<?, ?it/s]"
      ]
     },
     "metadata": {},
     "output_type": "display_data"
    },
    {
     "name": "stdout",
     "output_type": "stream",
     "text": [
      "[1,     1] loss: 0.001\tacc.: 0.080\n",
      "[1,   101] loss: 0.113\tacc.: 0.255\n",
      "[1,   201] loss: 0.107\tacc.: 0.562\n",
      "[1,   301] loss: 0.084\tacc.: 0.723\n",
      "[1,   401] loss: 0.042\tacc.: 0.832\n",
      "[1,   501] loss: 0.023\tacc.: 0.885\n"
     ]
    },
    {
     "data": {
      "application/vnd.jupyter.widget-view+json": {
       "model_id": "2bb8b76a7d8b4bdd81b1a5de194b7eef",
       "version_major": 2,
       "version_minor": 0
      },
      "text/plain": [
       "  0%|          | 0/600 [00:00<?, ?it/s]"
      ]
     },
     "metadata": {},
     "output_type": "display_data"
    },
    {
     "name": "stdout",
     "output_type": "stream",
     "text": [
      "[2,     1] loss: 0.000\tacc.: 0.920\n",
      "[2,   101] loss: 0.015\tacc.: 0.915\n",
      "[2,   201] loss: 0.014\tacc.: 0.919\n",
      "[2,   301] loss: 0.013\tacc.: 0.926\n",
      "[2,   401] loss: 0.012\tacc.: 0.933\n",
      "[2,   501] loss: 0.011\tacc.: 0.938\n"
     ]
    },
    {
     "data": {
      "application/vnd.jupyter.widget-view+json": {
       "model_id": "c0ffaf0364054e5d99e96c0e6a8c9e4f",
       "version_major": 2,
       "version_minor": 0
      },
      "text/plain": [
       "  0%|          | 0/600 [00:00<?, ?it/s]"
      ]
     },
     "metadata": {},
     "output_type": "display_data"
    },
    {
     "name": "stdout",
     "output_type": "stream",
     "text": [
      "[3,     1] loss: 0.000\tacc.: 0.930\n",
      "[3,   101] loss: 0.009\tacc.: 0.943\n",
      "[3,   201] loss: 0.009\tacc.: 0.946\n",
      "[3,   301] loss: 0.010\tacc.: 0.943\n",
      "[3,   401] loss: 0.009\tacc.: 0.948\n",
      "[3,   501] loss: 0.008\tacc.: 0.954\n"
     ]
    },
    {
     "data": {
      "application/vnd.jupyter.widget-view+json": {
       "model_id": "146bfbe104cd48708b74e62f5fec0972",
       "version_major": 2,
       "version_minor": 0
      },
      "text/plain": [
       "  0%|          | 0/600 [00:00<?, ?it/s]"
      ]
     },
     "metadata": {},
     "output_type": "display_data"
    },
    {
     "name": "stdout",
     "output_type": "stream",
     "text": [
      "[4,     1] loss: 0.000\tacc.: 0.950\n",
      "[4,   101] loss: 0.008\tacc.: 0.954\n",
      "[4,   201] loss: 0.007\tacc.: 0.959\n",
      "[4,   301] loss: 0.007\tacc.: 0.958\n",
      "[4,   401] loss: 0.007\tacc.: 0.961\n",
      "[4,   501] loss: 0.007\tacc.: 0.957\n"
     ]
    },
    {
     "data": {
      "application/vnd.jupyter.widget-view+json": {
       "model_id": "8ec65e0d39904a32afb73ccae684405b",
       "version_major": 2,
       "version_minor": 0
      },
      "text/plain": [
       "  0%|          | 0/600 [00:00<?, ?it/s]"
      ]
     },
     "metadata": {},
     "output_type": "display_data"
    },
    {
     "name": "stdout",
     "output_type": "stream",
     "text": [
      "[5,     1] loss: 0.000\tacc.: 0.960\n",
      "[5,   101] loss: 0.007\tacc.: 0.962\n",
      "[5,   201] loss: 0.006\tacc.: 0.964\n",
      "[5,   301] loss: 0.007\tacc.: 0.961\n",
      "[5,   401] loss: 0.006\tacc.: 0.965\n",
      "[5,   501] loss: 0.006\tacc.: 0.966\n"
     ]
    },
    {
     "data": {
      "application/vnd.jupyter.widget-view+json": {
       "model_id": "e03d523215634009a8f4b1020e1852eb",
       "version_major": 2,
       "version_minor": 0
      },
      "text/plain": [
       "  0%|          | 0/600 [00:00<?, ?it/s]"
      ]
     },
     "metadata": {},
     "output_type": "display_data"
    },
    {
     "name": "stdout",
     "output_type": "stream",
     "text": [
      "[6,     1] loss: 0.000\tacc.: 0.990\n",
      "[6,   101] loss: 0.005\tacc.: 0.966\n",
      "[6,   201] loss: 0.006\tacc.: 0.965\n",
      "[6,   301] loss: 0.006\tacc.: 0.966\n",
      "[6,   401] loss: 0.005\tacc.: 0.969\n",
      "[6,   501] loss: 0.005\tacc.: 0.970\n"
     ]
    },
    {
     "data": {
      "application/vnd.jupyter.widget-view+json": {
       "model_id": "c9fd22c2518046dd83978b9569aaf5cc",
       "version_major": 2,
       "version_minor": 0
      },
      "text/plain": [
       "  0%|          | 0/600 [00:00<?, ?it/s]"
      ]
     },
     "metadata": {},
     "output_type": "display_data"
    },
    {
     "name": "stdout",
     "output_type": "stream",
     "text": [
      "[7,     1] loss: 0.000\tacc.: 0.970\n",
      "[7,   101] loss: 0.005\tacc.: 0.970\n",
      "[7,   201] loss: 0.005\tacc.: 0.969\n",
      "[7,   301] loss: 0.005\tacc.: 0.970\n",
      "[7,   401] loss: 0.005\tacc.: 0.969\n",
      "[7,   501] loss: 0.005\tacc.: 0.971\n"
     ]
    },
    {
     "data": {
      "application/vnd.jupyter.widget-view+json": {
       "model_id": "89a67851bf8748f5afed39c93eba3844",
       "version_major": 2,
       "version_minor": 0
      },
      "text/plain": [
       "  0%|          | 0/600 [00:00<?, ?it/s]"
      ]
     },
     "metadata": {},
     "output_type": "display_data"
    },
    {
     "name": "stdout",
     "output_type": "stream",
     "text": [
      "[8,     1] loss: 0.000\tacc.: 1.000\n",
      "[8,   101] loss: 0.005\tacc.: 0.972\n",
      "[8,   201] loss: 0.005\tacc.: 0.973\n",
      "[8,   301] loss: 0.004\tacc.: 0.972\n",
      "[8,   401] loss: 0.004\tacc.: 0.976\n",
      "[8,   501] loss: 0.005\tacc.: 0.972\n"
     ]
    },
    {
     "data": {
      "application/vnd.jupyter.widget-view+json": {
       "model_id": "88b0c949e0394df6bd35c9fc0df61b32",
       "version_major": 2,
       "version_minor": 0
      },
      "text/plain": [
       "  0%|          | 0/600 [00:00<?, ?it/s]"
      ]
     },
     "metadata": {},
     "output_type": "display_data"
    },
    {
     "name": "stdout",
     "output_type": "stream",
     "text": [
      "[9,     1] loss: 0.000\tacc.: 0.990\n",
      "[9,   101] loss: 0.004\tacc.: 0.975\n",
      "[9,   201] loss: 0.004\tacc.: 0.976\n",
      "[9,   301] loss: 0.004\tacc.: 0.975\n",
      "[9,   401] loss: 0.004\tacc.: 0.973\n",
      "[9,   501] loss: 0.004\tacc.: 0.976\n"
     ]
    },
    {
     "data": {
      "application/vnd.jupyter.widget-view+json": {
       "model_id": "f4217bf0e6584be5abe66d1008aa61fb",
       "version_major": 2,
       "version_minor": 0
      },
      "text/plain": [
       "  0%|          | 0/600 [00:00<?, ?it/s]"
      ]
     },
     "metadata": {},
     "output_type": "display_data"
    },
    {
     "name": "stdout",
     "output_type": "stream",
     "text": [
      "[10,     1] loss: 0.000\tacc.: 0.970\n",
      "[10,   101] loss: 0.004\tacc.: 0.974\n",
      "[10,   201] loss: 0.004\tacc.: 0.976\n",
      "[10,   301] loss: 0.004\tacc.: 0.978\n",
      "[10,   401] loss: 0.004\tacc.: 0.977\n",
      "[10,   501] loss: 0.004\tacc.: 0.977\n",
      "Finished Training\n"
     ]
    }
   ],
   "source": [
    "PATH = 'checkpoints/mnist_q_cnn_v2.pth'\n",
    "TRAIN = not os.path.isfile(PATH)\n",
    "\n",
    "if TRAIN:\n",
    "    os.makedirs('checkpoints', exist_ok=1)\n",
    "    for epoch in range(10):  # loop over the dataset multiple times\n",
    "        running_loss = 0.0\n",
    "        correct, total = 0, 0\n",
    "        for i, data in tqdm.tqdm(enumerate(train_loader, 0), total = len(train_loader)):\n",
    "            # get the inputs; data is a list of [inputs, labels]\n",
    "            inputs, labels = data\n",
    "            inputs, labels = inputs.to(device), labels.to(device)\n",
    "\n",
    "            # zero the parameter gradients\n",
    "            optimizer.zero_grad()\n",
    "\n",
    "            # forward + backward + optimize\n",
    "            outputs = model(inputs)\n",
    "            loss = criterion(outputs, labels)\n",
    "            loss.backward()\n",
    "            optimizer.step()\n",
    "\n",
    "            running_loss += loss.item()\n",
    "            correct += (torch.argmax(outputs, dim=1) == labels).type(torch.int8).sum()\n",
    "            total += len(labels)\n",
    "            # print statistics\n",
    "            if i % 100 == 0:    # print every 100 mini-batches\n",
    "                print(f'[{epoch + 1}, {i + 1:5d}] loss: {running_loss / 2000:.3f}\\tacc.: {correct/total:.3f}')\n",
    "                running_loss = 0.0\n",
    "                correct, total = 0, 0\n",
    "\n",
    "    save_model = model.to('cpu')\n",
    "    torch.save(save_model, PATH)\n",
    "    print('Finished Training')\n",
    "else:\n",
    "    model = torch.load(PATH)\n",
    "\n",
    "model = model.to(device)"
   ]
  },
  {
   "cell_type": "code",
   "execution_count": 70,
   "metadata": {},
   "outputs": [
    {
     "name": "stdout",
     "output_type": "stream",
     "text": [
      "Accuracy of the network on the 10000 test images: 97 %\n"
     ]
    }
   ],
   "source": [
    "correct = 0\n",
    "total = 0\n",
    "y_true = []\n",
    "y_pred = []\n",
    "# since we're not training, we don't need to calculate the gradients for our outputs\n",
    "with torch.no_grad():\n",
    "    for data in test_loader:\n",
    "        images, labels = data\n",
    "        images, labels = images.to(device), labels.to(device)\n",
    "        # calculate outputs by running images through the network\n",
    "        outputs = model(images)\n",
    "        # the class with the highest energy is what we choose as prediction\n",
    "        _, predicted = torch.max(outputs.data, 1)\n",
    "        total += labels.size(0)\n",
    "        correct += (predicted == labels).sum().item()\n",
    "        y_true.append(labels.cpu().numpy())\n",
    "        y_pred.append(predicted.cpu().numpy())\n",
    "\n",
    "print(f'Accuracy of the network on the 10000 test images: {100 * correct // total} %')"
   ]
  },
  {
   "cell_type": "code",
   "execution_count": 71,
   "metadata": {},
   "outputs": [
    {
     "data": {
      "image/png": "[encoded data removed]",
      "text/plain": [
       "<Figure size 640x480 with 2 Axes>"
      ]
     },
     "metadata": {},
     "output_type": "display_data"
    }
   ],
   "source": [
    "confusion_mtx = confusion_matrix(y_true, y_pred)\n",
    "df_cm = pd.DataFrame(confusion_mtx, range(len(confusion_mtx)), range(len(confusion_mtx)))\n",
    "# plt.figure(figsize=(10,7))\n",
    "sn.set(font_scale=1) # for label size\n",
    "sn.heatmap(df_cm, annot=True, cmap=\"Blues\", annot_kws={\"size\": 5}) # font size\n",
    "plt.title(\"Pyotrch Model Confusion Matrix\")\n",
    "plt.show()"
   ]
  },
  {
   "attachments": {},
   "cell_type": "markdown",
   "metadata": {},
   "source": [
    "#### Export to QONNX"
   ]
  },
  {
   "cell_type": "code",
   "execution_count": 73,
   "metadata": {},
   "outputs": [],
   "source": [
    "from hawq.utils.export import ExportManager"
   ]
  },
  {
   "cell_type": "code",
   "execution_count": 74,
   "metadata": {},
   "outputs": [
    {
     "name": "stdout",
     "output_type": "stream",
     "text": [
      "Exporting model...\n",
      "Optimizing...\n",
      "Model saved to: cnn.onnx\n"
     ]
    },
    {
     "name": "stderr",
     "output_type": "stream",
     "text": [
      "WARNING: The shape inference of hawq2qonnx::Quant type is missing, so it may result in wrong shape inference for the exported graph. Please consider adding it in symbolic function.\n",
      "WARNING: The shape inference of hawq2qonnx::Quant type is missing, so it may result in wrong shape inference for the exported graph. Please consider adding it in symbolic function.\n",
      "WARNING: The shape inference of hawq2qonnx::Quant type is missing, so it may result in wrong shape inference for the exported graph. Please consider adding it in symbolic function.\n",
      "WARNING: The shape inference of hawq2qonnx::Quant type is missing, so it may result in wrong shape inference for the exported graph. Please consider adding it in symbolic function.\n",
      "WARNING: The shape inference of hawq2qonnx::Quant type is missing, so it may result in wrong shape inference for the exported graph. Please consider adding it in symbolic function.\n",
      "WARNING: The shape inference of hawq2qonnx::Quant type is missing, so it may result in wrong shape inference for the exported graph. Please consider adding it in symbolic function.\n",
      "WARNING: The shape inference of hawq2qonnx::Quant type is missing, so it may result in wrong shape inference for the exported graph. Please consider adding it in symbolic function.\n",
      "WARNING: The shape inference of hawq2qonnx::Quant type is missing, so it may result in wrong shape inference for the exported graph. Please consider adding it in symbolic function.\n",
      "WARNING: The shape inference of hawq2qonnx::Quant type is missing, so it may result in wrong shape inference for the exported graph. Please consider adding it in symbolic function.\n",
      "WARNING: The shape inference of hawq2qonnx::Quant type is missing, so it may result in wrong shape inference for the exported graph. Please consider adding it in symbolic function.\n",
      "WARNING: The shape inference of hawq2qonnx::Quant type is missing, so it may result in wrong shape inference for the exported graph. Please consider adding it in symbolic function.\n",
      "WARNING: The shape inference of hawq2qonnx::Quant type is missing, so it may result in wrong shape inference for the exported graph. Please consider adding it in symbolic function.\n"
     ]
    }
   ],
   "source": [
    "manager = ExportManager(model)\n",
    "manager.export(torch.randn([1,1,28,28]), \"checkpoints/cnn.onnx\") "
   ]
  },
  {
   "cell_type": "code",
   "execution_count": null,
   "metadata": {},
   "outputs": [],
   "source": []
  }
 ],
 "metadata": {
  "kernelspec": {
   "display_name": "hawq-env",
   "language": "python",
   "name": "python3"
  },
  "language_info": {
   "codemirror_mode": {
    "name": "ipython",
    "version": 3
   },
   "file_extension": ".py",
   "mimetype": "text/x-python",
   "name": "python",
   "nbconvert_exporter": "python",
   "pygments_lexer": "ipython3",
   "version": "3.8.13"
  },
  "orig_nbformat": 4,
  "vscode": {
   "interpreter": {
    "hash": "89cb113a68cf14a73f12d4255aa79f45215601e5c33515e01fafc14720bd49e0"
   }
  }
 },
 "nbformat": 4,
 "nbformat_minor": 2
}
