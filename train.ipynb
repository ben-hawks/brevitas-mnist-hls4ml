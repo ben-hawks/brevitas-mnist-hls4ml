{
 "cells": [
  {
   "attachments": {},
   "cell_type": "markdown",
   "metadata": {},
   "source": [
    "### CNN in HAWQ Training "
   ]
  },
  {
   "cell_type": "code",
   "execution_count": 9,
   "metadata": {},
   "outputs": [],
   "source": [
    "import torch\n",
    "import torchvision\n",
    "import torchvision.transforms as transforms\n",
    "import torchvision.datasets as dset\n",
    "import torch.nn as nn\n",
    "import torch.nn.functional as F\n",
    "import torch.optim as optim\n",
    "import os\n",
    "from torchinfo import summary\n",
    "import tqdm.notebook as tqdm\n",
    "import numpy as np\n",
    "import matplotlib.pyplot as plt\n",
    "import seaborn as sn\n",
    "import pandas as pd\n",
    "from sklearn.metrics import confusion_matrix"
   ]
  },
  {
   "cell_type": "code",
   "execution_count": 10,
   "metadata": {},
   "outputs": [],
   "source": [
    "from hawq.utils.quantization_utils.quant_modules import QuantConv2d, QuantLinear, QuantAct"
   ]
  },
  {
   "cell_type": "code",
   "execution_count": 11,
   "metadata": {},
   "outputs": [
    {
     "data": {
      "text/plain": [
       "device(type='cpu')"
      ]
     },
     "execution_count": 11,
     "metadata": {},
     "output_type": "execute_result"
    }
   ],
   "source": [
    "device = torch.device('cuda' if torch.cuda.is_available() else 'cpu')\n",
    "device "
   ]
  },
  {
   "attachments": {},
   "cell_type": "markdown",
   "metadata": {},
   "source": [
    "#### Define Model in PyTorch "
   ]
  },
  {
   "cell_type": "code",
   "execution_count": 12,
   "metadata": {},
   "outputs": [],
   "source": [
    "class CNN(nn.Module):\n",
    "    def __init__(self):\n",
    "        super(CNN, self).__init__()\n",
    "        self.conv1 = nn.Conv2d(\n",
    "            in_channels=1,              \n",
    "            out_channels=16,            \n",
    "            kernel_size=5,              \n",
    "            stride=1,                   \n",
    "            padding=2,\n",
    "        )\n",
    "        self.conv2 = nn.Conv2d(\n",
    "            in_channels=16, \n",
    "            out_channels=32, \n",
    "            kernel_size=5, \n",
    "            stride=1, \n",
    "            padding=2\n",
    "        )\n",
    "        \n",
    "        self.relu = nn.ReLU()\n",
    "        self.max_pool = nn.MaxPool2d(kernel_size=2)\n",
    "        self.flatten = nn.Flatten(1,3)\n",
    "        \n",
    "        # fully connected layer, output 10 classes\n",
    "        self.out = nn.Linear(32 * 7 * 7, 10)\n",
    "\n",
    "    def forward(self, x):\n",
    "        x = self.conv1(x)\n",
    "        x = self.relu(x)\n",
    "        x = self.max_pool(x)\n",
    "\n",
    "        x = self.conv2(x)\n",
    "        x = self.relu(x)\n",
    "        x = self.max_pool(x)\n",
    "\n",
    "        # flatten the output of conv2 to (batch_size, 32 * 7 * 7)\n",
    "        x = self.flatten(x)\n",
    "        output = self.out(x)\n",
    "        return output  # return x for visualization"
   ]
  },
  {
   "cell_type": "code",
   "execution_count": 13,
   "metadata": {},
   "outputs": [
    {
     "data": {
      "text/plain": [
       "==========================================================================================\n",
       "Layer (type:depth-idx)                   Output Shape              Param #\n",
       "==========================================================================================\n",
       "CNN                                      [1, 10]                   --\n",
       "├─Conv2d: 1-1                            [1, 16, 28, 28]           416\n",
       "├─ReLU: 1-2                              [1, 16, 28, 28]           --\n",
       "├─MaxPool2d: 1-3                         [1, 16, 14, 14]           --\n",
       "├─Conv2d: 1-4                            [1, 32, 14, 14]           12,832\n",
       "├─ReLU: 1-5                              [1, 32, 14, 14]           --\n",
       "├─MaxPool2d: 1-6                         [1, 32, 7, 7]             --\n",
       "├─Flatten: 1-7                           [1, 1568]                 --\n",
       "├─Linear: 1-8                            [1, 10]                   15,690\n",
       "==========================================================================================\n",
       "Total params: 28,938\n",
       "Trainable params: 28,938\n",
       "Non-trainable params: 0\n",
       "Total mult-adds (M): 2.86\n",
       "==========================================================================================\n",
       "Input size (MB): 0.00\n",
       "Forward/backward pass size (MB): 0.15\n",
       "Params size (MB): 0.12\n",
       "Estimated Total Size (MB): 0.27\n",
       "=========================================================================================="
      ]
     },
     "execution_count": 13,
     "metadata": {},
     "output_type": "execute_result"
    }
   ],
   "source": [
    "model = CNN()\n",
    "model = model.to(device)\n",
    "summary(model, input_size=(1,1,28,28)) "
   ]
  },
  {
   "attachments": {},
   "cell_type": "markdown",
   "metadata": {},
   "source": [
    "#### Define Model in HAWQ"
   ]
  },
  {
   "cell_type": "code",
   "execution_count": 14,
   "metadata": {},
   "outputs": [],
   "source": [
    "class Q_CNN(nn.Module):\n",
    "    def __init__(self, model):\n",
    "        super(Q_CNN, self).__init__()\n",
    "        \n",
    "        self.quant_input = QuantAct(activation_bit=12) \n",
    "        self.q_relu_1 = QuantAct(activation_bit=8) \n",
    "        self.q_relu_2 = QuantAct(activation_bit=8) \n",
    "        \n",
    "        # create quantize Conv2d based on the original layer \n",
    "        conv1 = getattr(model, \"conv1\")\n",
    "        q_conv1 = QuantConv2d(weight_bit=4, bias_bit=16) \n",
    "        q_conv1.set_param(conv1)\n",
    "        setattr(self, \"conv1\", q_conv1)\n",
    "\n",
    "        # create quantize Conv2d based on the original layer \n",
    "        conv2 = getattr(model, \"conv2\")\n",
    "        q_conv2 = QuantConv2d(weight_bit=4, bias_bit=16) \n",
    "        q_conv2.set_param(conv2)\n",
    "        setattr(self, \"conv2\", q_conv2)\n",
    "        \n",
    "        self.relu = nn.ReLU()\n",
    "        self.max_pool = nn.MaxPool2d(kernel_size=2)\n",
    "        self.flatten = nn.Flatten(1,3)\n",
    "        \n",
    "        # fully connected layer, output 10 classes\n",
    "        out = getattr(model, \"out\")\n",
    "        q_out = QuantLinear(weight_bit=4, bias_bit=4)\n",
    "        q_out.set_param(out)\n",
    "        setattr(self, \"out\", q_out)\n",
    "\n",
    "    def forward(self, x):\n",
    "\n",
    "        x, p_sf = self.quant_input(x)\n",
    "\n",
    "        x, w_sf = self.conv1(x, p_sf)\n",
    "        x = self.relu(x)\n",
    "        x, p_sf = self.q_relu_1(x, p_sf, w_sf)\n",
    "        x = self.max_pool(x)\n",
    "\n",
    "        x, w_sf = self.conv2(x, p_sf)\n",
    "        x = self.relu(x)\n",
    "        x, p_sf = self.q_relu_2(x, p_sf, w_sf)\n",
    "        x = self.max_pool(x)\n",
    "\n",
    "        # flatten the output of conv2 to (batch_size, 32 * 7 * 7)\n",
    "        x = self.flatten(x)\n",
    "        output = self.out(x, p_sf)\n",
    "        return output  # return x for visualization"
   ]
  },
  {
   "cell_type": "code",
   "execution_count": 15,
   "metadata": {},
   "outputs": [
    {
     "data": {
      "text/plain": [
       "Q_CNN(\n",
       "  (quant_input): QuantAct(activation_bit=12, full_precision_flag=False, quant_mode=symmetric, Act_min: 0.00, Act_max: 0.00)\n",
       "  (q_relu_1): QuantAct(activation_bit=8, full_precision_flag=False, quant_mode=symmetric, Act_min: 0.00, Act_max: 0.00)\n",
       "  (q_relu_2): QuantAct(activation_bit=8, full_precision_flag=False, quant_mode=symmetric, Act_min: 0.00, Act_max: 0.00)\n",
       "  (conv1): (QuantConv2d(\n",
       "    (conv): Conv2d(1, 16, kernel_size=(5, 5), stride=(1, 1), padding=(2, 2))\n",
       "  ) weight_bit=4, full_precision_flag=False, quant_mode=symmetric)\n",
       "  (conv2): (QuantConv2d(\n",
       "    (conv): Conv2d(16, 32, kernel_size=(5, 5), stride=(1, 1), padding=(2, 2))\n",
       "  ) weight_bit=4, full_precision_flag=False, quant_mode=symmetric)\n",
       "  (relu): ReLU()\n",
       "  (max_pool): MaxPool2d(kernel_size=2, stride=2, padding=0, dilation=1, ceil_mode=False)\n",
       "  (flatten): Flatten(start_dim=1, end_dim=3)\n",
       "  (out): (QuantLinear() weight_bit=4, full_precision_flag=False, quantize_fn=symmetric)\n",
       ")"
      ]
     },
     "execution_count": 15,
     "metadata": {},
     "output_type": "execute_result"
    }
   ],
   "source": [
    "model = Q_CNN(model)\n",
    "model.to(device)"
   ]
  },
  {
   "attachments": {},
   "cell_type": "markdown",
   "metadata": {},
   "source": [
    "#### Setup loss and optimizer"
   ]
  },
  {
   "cell_type": "code",
   "execution_count": 16,
   "metadata": {},
   "outputs": [],
   "source": [
    "criterion = nn.CrossEntropyLoss()\n",
    "optimizer = optim.SGD(model.parameters(), lr=0.001, momentum=0.9) "
   ]
  },
  {
   "attachments": {},
   "cell_type": "markdown",
   "metadata": {},
   "source": [
    "#### Setup data loaders "
   ]
  },
  {
   "cell_type": "code",
   "execution_count": 17,
   "metadata": {},
   "outputs": [],
   "source": [
    "root = '../datasets/mnist'\n",
    "if not os.path.exists(root):\n",
    "    os.mkdir(root)\n",
    "\n",
    "trans = transforms.Compose([transforms.ToTensor(), transforms.Normalize((0.5,), (1.0,))])\n",
    "train_set = dset.MNIST(root=root, train=True, transform=trans, download=False)\n",
    "test_set = dset.MNIST(root=root, train=False, transform=trans, download=False)\n",
    "\n",
    "train_batch_size = 100\n",
    "test_batch_size = 1\n",
    "\n",
    "train_loader = torch.utils.data.DataLoader(\n",
    "    dataset=train_set,\n",
    "    batch_size=train_batch_size,\n",
    "    shuffle=True\n",
    ")\n",
    "test_loader = torch.utils.data.DataLoader(\n",
    "    dataset=test_set,\n",
    "    batch_size=test_batch_size,\n",
    "    shuffle=False\n",
    ")"
   ]
  },
  {
   "attachments": {},
   "cell_type": "markdown",
   "metadata": {},
   "source": [
    "#### Train CNN"
   ]
  },
  {
   "cell_type": "code",
   "execution_count": 29,
   "metadata": {},
   "outputs": [
    {
     "data": {
      "application/vnd.jupyter.widget-view+json": {
       "model_id": "7b46b445953243db970d6a873f6a2a7a",
       "version_major": 2,
       "version_minor": 0
      },
      "text/plain": [
       "  0%|          | 0/600 [00:00<?, ?it/s]"
      ]
     },
     "metadata": {},
     "output_type": "display_data"
    },
    {
     "name": "stdout",
     "output_type": "stream",
     "text": [
      "[1,   1] loss: 0.000\tacc.: 0.950\n",
      "[1, 101] loss: 0.004\tacc.: 0.975\n",
      "[1, 201] loss: 0.004\tacc.: 0.976\n",
      "[1, 301] loss: 0.004\tacc.: 0.976\n",
      "[1, 401] loss: 0.004\tacc.: 0.976\n",
      "[1, 501] loss: 0.004\tacc.: 0.977\n"
     ]
    },
    {
     "data": {
      "application/vnd.jupyter.widget-view+json": {
       "model_id": "59c1b20a376a4c90a83689cdd423d5c6",
       "version_major": 2,
       "version_minor": 0
      },
      "text/plain": [
       "  0%|          | 0/600 [00:00<?, ?it/s]"
      ]
     },
     "metadata": {},
     "output_type": "display_data"
    },
    {
     "name": "stdout",
     "output_type": "stream",
     "text": [
      "[2,   1] loss: 0.000\tacc.: 0.970\n",
      "[2, 101] loss: 0.004\tacc.: 0.977\n",
      "[2, 201] loss: 0.005\tacc.: 0.972\n",
      "[2, 301] loss: 0.004\tacc.: 0.979\n",
      "[2, 401] loss: 0.004\tacc.: 0.975\n",
      "[2, 501] loss: 0.004\tacc.: 0.979\n"
     ]
    },
    {
     "data": {
      "application/vnd.jupyter.widget-view+json": {
       "model_id": "728b029c823b4efd9769835471e9541f",
       "version_major": 2,
       "version_minor": 0
      },
      "text/plain": [
       "  0%|          | 0/600 [00:00<?, ?it/s]"
      ]
     },
     "metadata": {},
     "output_type": "display_data"
    },
    {
     "name": "stdout",
     "output_type": "stream",
     "text": [
      "[3,   1] loss: 0.000\tacc.: 0.970\n",
      "[3, 101] loss: 0.004\tacc.: 0.975\n",
      "[3, 201] loss: 0.004\tacc.: 0.978\n",
      "[3, 301] loss: 0.004\tacc.: 0.978\n",
      "[3, 401] loss: 0.004\tacc.: 0.973\n",
      "[3, 501] loss: 0.004\tacc.: 0.977\n"
     ]
    },
    {
     "data": {
      "application/vnd.jupyter.widget-view+json": {
       "model_id": "42867620d10045f487d15ae526349435",
       "version_major": 2,
       "version_minor": 0
      },
      "text/plain": [
       "  0%|          | 0/600 [00:00<?, ?it/s]"
      ]
     },
     "metadata": {},
     "output_type": "display_data"
    },
    {
     "name": "stdout",
     "output_type": "stream",
     "text": [
      "[4,   1] loss: 0.000\tacc.: 0.970\n",
      "[4, 101] loss: 0.004\tacc.: 0.975\n",
      "[4, 201] loss: 0.004\tacc.: 0.976\n",
      "[4, 301] loss: 0.004\tacc.: 0.977\n",
      "[4, 401] loss: 0.004\tacc.: 0.977\n",
      "[4, 501] loss: 0.004\tacc.: 0.975\n"
     ]
    },
    {
     "data": {
      "application/vnd.jupyter.widget-view+json": {
       "model_id": "d905d2d9a4c84fb98cc62c4d1a3b2993",
       "version_major": 2,
       "version_minor": 0
      },
      "text/plain": [
       "  0%|          | 0/600 [00:00<?, ?it/s]"
      ]
     },
     "metadata": {},
     "output_type": "display_data"
    },
    {
     "name": "stdout",
     "output_type": "stream",
     "text": [
      "[5,   1] loss: 0.000\tacc.: 1.000\n",
      "[5, 101] loss: 0.004\tacc.: 0.976\n",
      "[5, 201] loss: 0.004\tacc.: 0.976\n",
      "[5, 301] loss: 0.004\tacc.: 0.974\n",
      "[5, 401] loss: 0.004\tacc.: 0.976\n",
      "[5, 501] loss: 0.004\tacc.: 0.976\n"
     ]
    },
    {
     "data": {
      "application/vnd.jupyter.widget-view+json": {
       "model_id": "6fe42e515a104e479dc7bab4d2c283ef",
       "version_major": 2,
       "version_minor": 0
      },
      "text/plain": [
       "  0%|          | 0/600 [00:00<?, ?it/s]"
      ]
     },
     "metadata": {},
     "output_type": "display_data"
    },
    {
     "name": "stdout",
     "output_type": "stream",
     "text": [
      "[6,   1] loss: 0.000\tacc.: 0.990\n",
      "[6, 101] loss: 0.004\tacc.: 0.975\n",
      "[6, 201] loss: 0.004\tacc.: 0.977\n",
      "[6, 301] loss: 0.004\tacc.: 0.974\n",
      "[6, 401] loss: 0.004\tacc.: 0.976\n",
      "[6, 501] loss: 0.004\tacc.: 0.977\n"
     ]
    },
    {
     "data": {
      "application/vnd.jupyter.widget-view+json": {
       "model_id": "fbbb6dbe54264beeaf90f680394da646",
       "version_major": 2,
       "version_minor": 0
      },
      "text/plain": [
       "  0%|          | 0/600 [00:00<?, ?it/s]"
      ]
     },
     "metadata": {},
     "output_type": "display_data"
    },
    {
     "name": "stdout",
     "output_type": "stream",
     "text": [
      "[7,   1] loss: 0.000\tacc.: 0.970\n",
      "[7, 101] loss: 0.004\tacc.: 0.975\n",
      "[7, 201] loss: 0.004\tacc.: 0.978\n",
      "[7, 301] loss: 0.004\tacc.: 0.976\n",
      "[7, 401] loss: 0.004\tacc.: 0.977\n",
      "[7, 501] loss: 0.004\tacc.: 0.975\n"
     ]
    },
    {
     "data": {
      "application/vnd.jupyter.widget-view+json": {
       "model_id": "a2b03f2490634c608af70a2788118ee6",
       "version_major": 2,
       "version_minor": 0
      },
      "text/plain": [
       "  0%|          | 0/600 [00:00<?, ?it/s]"
      ]
     },
     "metadata": {},
     "output_type": "display_data"
    },
    {
     "name": "stdout",
     "output_type": "stream",
     "text": [
      "[8,   1] loss: 0.000\tacc.: 0.950\n",
      "[8, 101] loss: 0.004\tacc.: 0.975\n",
      "[8, 201] loss: 0.004\tacc.: 0.978\n",
      "[8, 301] loss: 0.004\tacc.: 0.975\n",
      "[8, 401] loss: 0.004\tacc.: 0.973\n",
      "[8, 501] loss: 0.004\tacc.: 0.976\n"
     ]
    },
    {
     "data": {
      "application/vnd.jupyter.widget-view+json": {
       "model_id": "2ea71940761f453093e747b8d99de6dd",
       "version_major": 2,
       "version_minor": 0
      },
      "text/plain": [
       "  0%|          | 0/600 [00:00<?, ?it/s]"
      ]
     },
     "metadata": {},
     "output_type": "display_data"
    },
    {
     "name": "stdout",
     "output_type": "stream",
     "text": [
      "[9,   1] loss: 0.000\tacc.: 0.980\n",
      "[9, 101] loss: 0.004\tacc.: 0.977\n",
      "[9, 201] loss: 0.004\tacc.: 0.977\n",
      "[9, 301] loss: 0.005\tacc.: 0.974\n",
      "[9, 401] loss: 0.004\tacc.: 0.974\n",
      "[9, 501] loss: 0.004\tacc.: 0.975\n"
     ]
    },
    {
     "data": {
      "application/vnd.jupyter.widget-view+json": {
       "model_id": "96d2d9ed9b9348a1a7bc4ce3f762ec7d",
       "version_major": 2,
       "version_minor": 0
      },
      "text/plain": [
       "  0%|          | 0/600 [00:00<?, ?it/s]"
      ]
     },
     "metadata": {},
     "output_type": "display_data"
    },
    {
     "name": "stdout",
     "output_type": "stream",
     "text": [
      "[10,   1] loss: 0.000\tacc.: 0.990\n",
      "[10, 101] loss: 0.004\tacc.: 0.977\n",
      "[10, 201] loss: 0.004\tacc.: 0.977\n",
      "[10, 301] loss: 0.004\tacc.: 0.974\n",
      "[10, 401] loss: 0.004\tacc.: 0.978\n",
      "[10, 501] loss: 0.004\tacc.: 0.973\n",
      "Finished Training\n"
     ]
    }
   ],
   "source": [
    "PATH = 'checkpoints/mnist_q_cnn.pth'\n",
    "TRAIN = not os.path.isfile(PATH)\n",
    "\n",
    "if TRAIN:\n",
    "    os.makedirs('checkpoints', exist_ok=1)\n",
    "    for epoch in range(10):  # loop over the dataset multiple times\n",
    "        running_loss = 0.0\n",
    "        correct, total = 0, 0\n",
    "        for i, data in tqdm.tqdm(enumerate(train_loader, 0), total = len(train_loader)):\n",
    "            # get the inputs; data is a list of [inputs, labels]\n",
    "            inputs, labels = data\n",
    "            inputs, labels = inputs.to(device), labels.to(device)\n",
    "\n",
    "            # zero the parameter gradients\n",
    "            optimizer.zero_grad()\n",
    "\n",
    "            # forward + backward + optimize\n",
    "            outputs = model(inputs)\n",
    "            loss = criterion(outputs, labels)\n",
    "            loss.backward()\n",
    "            optimizer.step()\n",
    "\n",
    "            running_loss += loss.item()\n",
    "            correct += (torch.argmax(outputs, dim=1) == labels).type(torch.int8).sum()\n",
    "            total += len(labels)\n",
    "            # print statistics\n",
    "            if i % 100 == 0:    # print every 100 mini-batches\n",
    "                print(f'[{epoch + 1}, {i + 1:3d}] loss: {running_loss / 2000:.3f}\\tacc.: {correct/total:.3f}')\n",
    "                running_loss = 0.0\n",
    "                correct, total = 0, 0\n",
    "\n",
    "    save_model = model.to('cpu')\n",
    "    torch.save(save_model, PATH)\n",
    "    print('Finished Training')\n",
    "else:\n",
    "    model = torch.load(PATH)\n",
    "\n",
    "model = model.to(device)"
   ]
  },
  {
   "attachments": {},
   "cell_type": "markdown",
   "metadata": {},
   "source": [
    "#### Evaluate"
   ]
  },
  {
   "cell_type": "code",
   "execution_count": 19,
   "metadata": {},
   "outputs": [
    {
     "name": "stdout",
     "output_type": "stream",
     "text": [
      "Accuracy of the network on the 10000 test images: 97 %\n"
     ]
    }
   ],
   "source": [
    "correct = 0\n",
    "total = 0\n",
    "y_true = []\n",
    "y_pred = []\n",
    "# since we're not training, we don't need to calculate the gradients for our outputs\n",
    "with torch.no_grad():\n",
    "    for data in test_loader:\n",
    "        images, labels = data\n",
    "        images, labels = images.to(device), labels.to(device)\n",
    "        # calculate outputs by running images through the network\n",
    "        outputs = model(images)\n",
    "        # the class with the highest energy is what we choose as prediction\n",
    "        _, predicted = torch.max(outputs.data, 1)\n",
    "        total += labels.size(0)\n",
    "        correct += (predicted == labels).sum().item()\n",
    "        y_true.append(labels.cpu().numpy())\n",
    "        y_pred.append(predicted.cpu().numpy())\n",
    "\n",
    "print(f'Accuracy of the network on the 10000 test images: {100 * correct // total} %')"
   ]
  },
  {
   "cell_type": "code",
   "execution_count": 20,
   "metadata": {},
   "outputs": [
    {
     "data": {
      "image/png": "[encoded data removed]",
      "text/plain": [
       "<Figure size 640x480 with 2 Axes>"
      ]
     },
     "metadata": {},
     "output_type": "display_data"
    }
   ],
   "source": [
    "confusion_mtx = confusion_matrix(y_true, y_pred)\n",
    "df_cm = pd.DataFrame(confusion_mtx, range(len(confusion_mtx)), range(len(confusion_mtx)))\n",
    "# plt.figure(figsize=(10,7))\n",
    "sn.set(font_scale=1) # for label size\n",
    "sn.heatmap(df_cm, annot=True, cmap=\"Blues\", annot_kws={\"size\": 5}) # font size\n",
    "plt.title(\"Pyotrch Model Confusion Matrix\")\n",
    "plt.show()"
   ]
  },
  {
   "attachments": {},
   "cell_type": "markdown",
   "metadata": {},
   "source": [
    "#### Export to QONNX"
   ]
  },
  {
   "cell_type": "code",
   "execution_count": 21,
   "metadata": {},
   "outputs": [],
   "source": [
    "from hawq.utils.export import ExportManager"
   ]
  },
  {
   "cell_type": "code",
   "execution_count": 22,
   "metadata": {},
   "outputs": [
    {
     "name": "stdout",
     "output_type": "stream",
     "text": [
      "Exporting model...\n",
      "Optimizing...\n"
     ]
    },
    {
     "name": "stderr",
     "output_type": "stream",
     "text": [
      "WARNING: The shape inference of hawq2qonnx::Quant type is missing, so it may result in wrong shape inference for the exported graph. Please consider adding it in symbolic function.\n",
      "WARNING: The shape inference of hawq2qonnx::Quant type is missing, so it may result in wrong shape inference for the exported graph. Please consider adding it in symbolic function.\n",
      "WARNING: The shape inference of hawq2qonnx::Quant type is missing, so it may result in wrong shape inference for the exported graph. Please consider adding it in symbolic function.\n",
      "WARNING: The shape inference of hawq2qonnx::Quant type is missing, so it may result in wrong shape inference for the exported graph. Please consider adding it in symbolic function.\n",
      "WARNING: The shape inference of hawq2qonnx::Quant type is missing, so it may result in wrong shape inference for the exported graph. Please consider adding it in symbolic function.\n",
      "WARNING: The shape inference of hawq2qonnx::Quant type is missing, so it may result in wrong shape inference for the exported graph. Please consider adding it in symbolic function.\n",
      "WARNING: The shape inference of hawq2qonnx::Quant type is missing, so it may result in wrong shape inference for the exported graph. Please consider adding it in symbolic function.\n",
      "WARNING: The shape inference of hawq2qonnx::Quant type is missing, so it may result in wrong shape inference for the exported graph. Please consider adding it in symbolic function.\n",
      "WARNING: The shape inference of hawq2qonnx::Quant type is missing, so it may result in wrong shape inference for the exported graph. Please consider adding it in symbolic function.\n",
      "WARNING: The shape inference of hawq2qonnx::Quant type is missing, so it may result in wrong shape inference for the exported graph. Please consider adding it in symbolic function.\n",
      "WARNING: The shape inference of hawq2qonnx::Quant type is missing, so it may result in wrong shape inference for the exported graph. Please consider adding it in symbolic function.\n",
      "WARNING: The shape inference of hawq2qonnx::Quant type is missing, so it may result in wrong shape inference for the exported graph. Please consider adding it in symbolic function.\n"
     ]
    },
    {
     "name": "stdout",
     "output_type": "stream",
     "text": [
      "Model saved to: checkpoints/cnn.onnx\n"
     ]
    }
   ],
   "source": [
    "manager = ExportManager(model)\n",
    "manager.export(torch.randn([1,1,28,28]), \"checkpoints/cnn.onnx\") "
   ]
  },
  {
   "attachments": {},
   "cell_type": "markdown",
   "metadata": {},
   "source": [
    "#### Visualize QONNX Model"
   ]
  },
  {
   "cell_type": "code",
   "execution_count": 23,
   "metadata": {},
   "outputs": [],
   "source": [
    "import netron"
   ]
  },
  {
   "cell_type": "code",
   "execution_count": 24,
   "metadata": {},
   "outputs": [
    {
     "name": "stdout",
     "output_type": "stream",
     "text": [
      "Serving 'checkpoints/cnn.onnx' at http://localhost:8081\n"
     ]
    },
    {
     "data": {
      "text/plain": [
       "('localhost', 8081)"
      ]
     },
     "execution_count": 24,
     "metadata": {},
     "output_type": "execute_result"
    }
   ],
   "source": [
    "netron.start(\"checkpoints/cnn.onnx\")"
   ]
  },
  {
   "attachments": {},
   "cell_type": "markdown",
   "metadata": {},
   "source": [
    "#### Convert Model to HLS "
   ]
  },
  {
   "cell_type": "code",
   "execution_count": 25,
   "metadata": {},
   "outputs": [],
   "source": [
    "import hls4ml\n",
    "from qonnx.core.modelwrapper import ModelWrapper"
   ]
  },
  {
   "cell_type": "code",
   "execution_count": 26,
   "metadata": {},
   "outputs": [],
   "source": [
    "onnx_model = ModelWrapper(\"checkpoints/cnn.onnx\")"
   ]
  },
  {
   "cell_type": "code",
   "execution_count": 27,
   "metadata": {},
   "outputs": [
    {
     "name": "stdout",
     "output_type": "stream",
     "text": [
      "Interpreting Model ...\n",
      "Output layers:  ['Mul_2']\n",
      "Input shape: [None, 1, 28, 28]\n",
      "Topology:\n",
      "Layer name: Quant_0, layer type: Quant, current shape: [[16, 5, 5, 1]]\n",
      "Layer name: Quant_1, layer type: Quant, current shape: [[32, 5, 5, 16]]\n",
      "Layer name: Quant_2, layer type: Quant, current shape: [[1568, 10]]\n",
      "Layer name: Quant_3, layer type: Quant, current shape: [[10]]\n",
      "Layer name: Transpose_0, layer type: Transpose, current shape: [[1568, 10]]\n",
      "Layer name: Div_0, layer type: Merge, current shape: [[1, 28, 28, 1]]\n",
      "Layer name: Conv_0, layer type: Conv, current shape: [[1, 28, 28, 1], [16, 5, 5, 1]]\n",
      "Layer name: Mul_0, layer type: Merge, current shape: [[1, 28, 28, 16]]\n",
      "Layer name: Relu_0, layer type: Activation, current shape: [[1, 28, 28, 16]]\n",
      "Layer name: MaxPool_0, layer type: MaxPooling2D, current shape: [[1, 28, 28, 16]]\n",
      "Layer name: Div_1, layer type: Merge, current shape: [[1, 14, 14, 16]]\n",
      "Layer name: Conv_1, layer type: Conv, current shape: [[1, 14, 14, 16], [32, 5, 5, 16]]\n",
      "Layer name: Mul_1, layer type: Merge, current shape: [[1, 14, 14, 32]]\n",
      "Layer name: Relu_1, layer type: Activation, current shape: [[1, 14, 14, 32]]\n",
      "Layer name: MaxPool_1, layer type: MaxPooling2D, current shape: [[1, 14, 14, 32]]\n",
      "Layer name: Transpose_1, layer type: Transpose, current shape: [[1, 7, 7, 32]]\n",
      "Layer name: Flatten_0, layer type: Reshape, current shape: [[1, 32, 7, 7]]\n",
      "Layer name: Div_2, layer type: Merge, current shape: [[1, 1568]]\n",
      "Layer name: MatMul_0, layer type: MatMul, current shape: [[1, 1568], [1568, 10]]\n",
      "Layer name: Add_0, layer type: Merge, current shape: [[1, 10], [10]]\n",
      "Layer name: Mul_2, layer type: Merge, current shape: [[1, 10]]\n",
      "Creating HLS model\n",
      "WARNING: Cannot use \"Latency\" model strategy for Conv2D_Conv_0 layer. Switching to \"Resource\" strategy.\n",
      "Writing HLS project\n",
      "Done\n"
     ]
    }
   ],
   "source": [
    "model_name = \"checkpoints/cnn.onnx\"\n",
    "\n",
    "config = hls4ml.utils.config_from_onnx_model(model_name, granularity='model')\n",
    "hls_model = hls4ml.converters.convert_from_onnx_model(model_name, hls_config=config)\n",
    "hls_model.compile()"
   ]
  },
  {
   "cell_type": "code",
   "execution_count": null,
   "metadata": {},
   "outputs": [],
   "source": []
  }
 ],
 "metadata": {
  "kernelspec": {
   "display_name": "hawq-env",
   "language": "python",
   "name": "python3"
  },
  "language_info": {
   "codemirror_mode": {
    "name": "ipython",
    "version": 3
   },
   "file_extension": ".py",
   "mimetype": "text/x-python",
   "name": "python",
   "nbconvert_exporter": "python",
   "pygments_lexer": "ipython3",
   "version": "3.8.13"
  },
  "orig_nbformat": 4,
  "vscode": {
   "interpreter": {
    "hash": "89cb113a68cf14a73f12d4255aa79f45215601e5c33515e01fafc14720bd49e0"
   }
  }
 },
 "nbformat": 4,
 "nbformat_minor": 2
}
